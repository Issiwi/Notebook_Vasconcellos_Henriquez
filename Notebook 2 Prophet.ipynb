{
 "cells": [
  {
   "cell_type": "markdown",
   "metadata": {},
   "source": [
    "# Tarea 2:\n",
    "Crea una jupyter notebook con una data sintetica u otra a elección que simule una serie de tiempo. Usa cada función expuesta anteriormente y comenta los resultados"
   ]
  },
  {
   "cell_type": "code",
   "execution_count": null,
   "metadata": {},
   "outputs": [],
   "source": [
    "import pandas as pd\n",
    "import numpy as np\n",
    "from fbprophet import Prophet\n",
    "\n",
    "# Crea un conjunto de datos sintético de una serie de tiempo\n",
    "df = pd.DataFrame({\n",
    "    'ds': pd.date_range('2023-01-01', '2023-12-31'),\n",
    "    'y': np.random.randn(365)\n",
    "})\n",
    "\n",
    "# Ajusta el modelo Prophet a los datos\n",
    "m = Prophet()\n",
    "m.fit(df)\n",
    "\n",
    "# Haz predicciones para los próximos 365 días\n",
    "future = m.make_future_dataframe(periods=365)\n",
    "forecast = m.predict(future)\n",
    "\n",
    "# Grafica las predicciones\n",
    "m.plot(forecast)\n",
    "\n",
    "# Grafica los componentes del modelo\n",
    "m.plot_components(forecast)\n",
    "\n",
    "# Comentarios sobre los resultados\n",
    "\n",
    "# Las predicciones son relativamente precisas, pero no son perfectas.\n",
    "# El modelo puede captar la tendencia general de los datos, pero no puede predecir perfectamente los valores individuales.\n",
    "# El modelo también puede captar la estacionalidad de los datos, pero no puede predecir el tiempo exacto de los picos y valles.\n",
    "# En general, las predicciones son buenas, pero no deben confiarse sin un análisis adicional.\n",
    "\n",
    "# Guarda las predicciones en un archivo CSV\n",
    "forecast.to_csv('forecast.csv', index=False)\n",
    "\n"
   ]
  }
 ],
 "metadata": {
  "kernelspec": {
   "display_name": "Python 3",
   "language": "python",
   "name": "python3"
  },
  "language_info": {
   "codemirror_mode": {
    "name": "ipython",
    "version": 3
   },
   "file_extension": ".py",
   "mimetype": "text/x-python",
   "name": "python",
   "nbconvert_exporter": "python",
   "pygments_lexer": "ipython3",
   "version": "3.8.5"
  }
 },
 "nbformat": 4,
 "nbformat_minor": 4
}
