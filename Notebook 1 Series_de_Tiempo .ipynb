{
 "cells": [
  {
   "cell_type": "markdown",
   "metadata": {},
   "source": [
    "# Series de Tiempo\n",
    "Una serie de tiempo es una secuencia de observaciones tomadas secuencialmente en el tiempo. Por ejemplo, la altura de la marea cada día durante un mes, las ventas diarias de una empresa durante un año, o la temperatura horaria durante una semana, son todas series de tiempo.\n",
    "\n",
    "Las series de tiempo son importantes porque nos permiten entender patrones y tendencias en los datos a lo largo del tiempo. Esto es útil en una variedad de campos, desde las finanzas (por ejemplo, predecir precios de acciones) hasta la meteorología (por ejemplo, predecir el clima).\n",
    "\n",
    "En el siguiente ejemplo, vamos a generar una serie de tiempo simple y visualizarla usando Python y la biblioteca de visualización Seaborn."
   ]
  },
  {
   "cell_type": "code",
   "execution_count": null,
   "metadata": {},
   "outputs": [],
   "source": [
    "# Importamos las bibliotecas necesarias\n",
    "import pandas as pd\n",
    "import numpy as np\n",
    "import seaborn as sns\n",
    "import matplotlib.pyplot as plt\n",
    "\n",
    "# Generamos una serie de tiempo simple\n",
    "np.random.seed(0)\n",
    "time = pd.date_range('2020-01-01', periods=200)\n",
    "series = pd.Series(np.random.randn(len(time)), index=time)\n",
    "\n",
    "# Visualizamos la serie de tiempo\n",
    "sns.lineplot(data=series)\n",
    "plt.title('Serie de Tiempo Aleatoria')\n",
    "plt.xlabel('Tiempo')\n",
    "plt.ylabel('Valor')\n",
    "plt.show()\n",
    "     "
   ]
  },
  {
   "cell_type": "markdown",
   "metadata": {},
   "source": [
    "# Definición Formal de una Serie de Tiempo\n",
    "Formalmente, una serie de tiempo puede ser vista como una realización de un proceso estocástico en el tiempo. Un proceso estocástico es una colección de variables aleatorias indexadas por el tiempo.\n",
    "\n",
    "Si denotamos la serie de tiempo como \n",
    ", entonces \n",
    " es la variable aleatoria en el tiempo \n",
    ". El conjunto completo \n",
    " para todos los tiempos \n",
    " es el proceso estocástico.\n",
    "\n",
    "Existen diferentes tipos de procesos estocásticos que se utilizan para modelar series de tiempo, dependiendo de las propiedades de la serie. Por ejemplo, si la serie es estacionaria (es decir, sus propiedades estadísticas no cambian con el tiempo), se pueden utilizar modelos como el modelo autorregresivo (AR), el modelo de media móvil (MA), o el modelo autorregresivo de media móvil (ARMA). Si la serie tiene una tendencia o una estacionalidad, se pueden utilizar modelos como el modelo autorregresivo integrado de media móvil (ARIMA) o el modelo de suavizado exponencial.\n",
    "\n",
    "# Estacionalidad en las Series de Tiempo\n",
    "La estacionalidad se refiere a las variaciones periódicas en una serie de tiempo. Por ejemplo, las ventas de helados pueden ser altas durante el verano y bajas durante el invierno, lo que constituiría una estacionalidad anual. De manera similar, las ventas de una tienda pueden ser altas durante el día y bajas durante la noche, lo que constituiría una estacionalidad diaria.\n",
    "\n",
    "Una serie de tiempo es estacionaria si sus propiedades estadísticas (como la media, la varianza y la autocorrelación) son constantes en el tiempo. Esto significa que no tiene tendencia ni estacionalidad. Por otro lado, una serie de tiempo que tiene una tendencia o una estacionalidad se dice que es no estacionaria.\n",
    "\n",
    "A continuación, vamos a generar una serie de tiempo estacionaria y una no estacionaria, y vamos a comprobar su estacionariedad utilizando el test de Dickey-Fuller aumentado, que es un método estadístico para probar la estacionariedad. También vamos a visualizar las series."
   ]
  },
  {
   "cell_type": "code",
   "execution_count": null,
   "metadata": {},
   "outputs": [],
   "source": [
    "# Importamos la biblioteca para el test de Dickey-Fuller\n",
    "from statsmodels.tsa.stattools import adfuller\n",
    "\n",
    "# Generamos una serie de tiempo estacionaria\n",
    "stationary_series = pd.Series(np.random.randn(200), index=pd.date_range('2020-01-01', periods=200))\n",
    "\n",
    "# Realizamos el test de Dickey-Fuller\n",
    "result = adfuller(stationary_series)\n",
    "print(f'P-value para la serie estacionaria: {result[1]}')\n",
    "\n",
    "# Visualizamos la serie de tiempo estacionaria\n",
    "sns.lineplot(data=stationary_series)\n",
    "plt.title('Serie de Tiempo Estacionaria')\n",
    "plt.xlabel('Tiempo')\n",
    "plt.ylabel('Valor')\n",
    "plt.show()\n",
    "\n",
    "# Generamos una serie de tiempo no estacionaria\n",
    "non_stationary_series = pd.Series(np.random.randn(200).cumsum(), index=pd.date_range('2020-01-01', periods=200))\n",
    "\n",
    "# Realizamos el test de Dickey-Fuller\n",
    "result = adfuller(non_stationary_series)\n",
    "print(f'P-value para la serie no estacionaria: {result[1]}')\n",
    "\n",
    "# Visualizamos la serie de tiempo no estacionaria\n",
    "sns.lineplot(data=non_stationary_series)\n",
    "plt.title('Serie de Tiempo No Estacionaria')\n",
    "plt.xlabel('Tiempo')\n",
    "plt.ylabel('Valor')\n",
    "plt.show()"
   ]
  },
  {
   "cell_type": "markdown",
   "metadata": {},
   "source": [
    "# Test de Dickey-Fuller Aumentado\n",
    "El test de Dickey-Fuller aumentado (ADF) es un test estadístico que se utiliza para determinar si una serie de tiempo es estacionaria. El test se basa en la estimación de la siguiente regresión por mínimos cuadrados ordinarios:\n",
    "\n",
    "donde \n",
    ", \n",
    " es la serie de tiempo, \n",
    " es la tendencia, y \n",
    " es el término de error.\n",
    "\n",
    "La hipótesis nula del test es que \n",
    ", lo que indica que la serie de tiempo tiene una raíz unitaria y por lo tanto es no estacionaria. Si el p-value del test es menor que un nivel de significancia dado (por ejemplo, 0.05), entonces rechazamos la hipótesis nula y concluimos que la serie de tiempo es estacionaria.\n",
    "\n",
    "A continuación, vamos a realizar el test de Dickey-Fuller aumentado en una serie de tiempo."
   ]
  },
  {
   "cell_type": "code",
   "execution_count": null,
   "metadata": {},
   "outputs": [],
   "source": [
    "# Generamos una serie de tiempo\n",
    "series = pd.Series(np.random.randn(200).cumsum(), index=pd.date_range('2020-01-01', periods=200))\n",
    "\n",
    "# Realizamos el test de Dickey-Fuller\n",
    "result = adfuller(series)\n",
    "print(f'ADF Statistic: {result[0]}')\n",
    "print(f'p-value: {result[1]}')\n",
    "print(f'Critical Values:')\n",
    "for key, value in result[4].items():\n",
    "    print(f'\\t{key}: {value}')"
   ]
  },
  {
   "cell_type": "markdown",
   "metadata": {},
   "source": [
    "# Ejercicios\n",
    "Ahora que hemos aprendido cómo generar series de tiempo estacionarias y no estacionarias, y cómo comprobar su estacionariedad utilizando el test de Dickey-Fuller, es tu turno de practicar.\n",
    "\n",
    "#### Ejercicio 1:\n",
    "\n",
    "Genera una serie de tiempo que sea una caminata aleatoria (es decir, cada valor es la suma del valor anterior y un ruido aleatorio), y comprueba si es estacionaria utilizando el test de Dickey-Fuller. Visualiza la serie de tiempo.\n",
    "\n",
    "#### Ejercicio 2:\n",
    "\n",
    "Genera una serie de tiempo que sea la suma de una tendencia y un ruido aleatorio, y comprueba si es estacionaria utilizando el test de Dickey-Fuller. Visualiza la serie de tiempo."
   ]
  },
  {
   "cell_type": "code",
   "execution_count": null,
   "metadata": {},
   "outputs": [],
   "source": [
    "#Ejercicio 1\n",
    "\n",
    "# Generamos una serie de tiempo que es una caminata aleatoria\n",
    "np.random.seed(0)\n",
    "time = pd.date_range('2020-01-01', periods=200)\n",
    "series = pd.Series(np.random.randn(len(time)), index=time)\n",
    "\n",
    "# Realizamos el test de Dickey-Fuller\n",
    "result = adfuller(series)\n",
    "print(f'ADF Statistic: {result[0]}')\n",
    "print(f'p-value: {result[1]}')\n",
    "print(f'Critical Values:')\n",
    "for key, value in result[4].items():\n",
    "    print(f'\\t{key}: {value}')\n",
    "\n",
    "# Visualizamos la serie de tiempo\n",
    "sns.lineplot(data=series)\n",
    "plt.title('Serie de Tiempo Caminata Aleatoria')\n",
    "plt.xlabel('Tiempo')\n",
    "plt.ylabel('Valor')\n",
    "plt.show()\n",
    "\n",
    "\n",
    "\n"
   ]
  },
  {
   "cell_type": "code",
   "execution_count": null,
   "metadata": {},
   "outputs": [],
   "source": [
    "#Ejercicio 2\n",
    "#Genera una serie de tiempo que sea la suma de una tendencia y un ruido aleatorio\n",
    "series = pd.Series(np.random.randn(200) + np.linspace(0, 10, 200), index=pd.date_range('2020-01-01', periods=200))\n",
    "\n",
    "# Visualiza la serie de tiempo\n",
    "plt.plot(series)\n",
    "plt.title('serie de tiempo con ruido aleatorio')\n",
    "plt.show()\n",
    "\n",
    "# Test de Dickey-Fuller\n",
    "result = adfuller(series)\n",
    "print(f'ADF Statistic: {result[0]}')\n",
    "print(f'p-value: {result[1]}')\n",
    "print(f'Critical Values:')\n",
    "for key, value in result[4].items():\n",
    "    print(f'\\t{key}: {value}')\n",
    "\n",
    "\n"
   ]
  },
  {
   "cell_type": "markdown",
   "metadata": {},
   "source": [
    "# Series de Tiempo con Prophet\n",
    "Prophet es una biblioteca de Python desarrollada por Facebook que se utiliza para el análisis y la predicción de series de tiempo. Prophet es especialmente útil para trabajar con series de tiempo que tienen patrones fuertes de tendencia y estacionalidad, y que pueden tener puntos de cambio en su tendencia.\n",
    "\n",
    "Algunas de las ventajas de Prophet son:\n",
    "\n",
    "Manejo de datos faltantes: Prophet puede manejar datos faltantes y no requiere que la serie de tiempo sea interpolada para llenar los datos faltantes.\n",
    "Flexibilidad: Prophet permite al usuario especificar manualmente los puntos de cambio, en lugar de tener que confiar únicamente en la detección automática.\n",
    "Modelado de días festivos y eventos especiales: Prophet permite modelar días festivos y eventos especiales que pueden afectar a la serie de tiempo.\n",
    "Robustez a outliers: Prophet es robusto a los outliers y no se ve afectado significativamente por ellos.\n",
    "A continuación, vamos a utilizar Prophet para descomponer una serie de tiempo en su tendencia y componentes estacionales."
   ]
  },
  {
   "cell_type": "code",
   "execution_count": null,
   "metadata": {},
   "outputs": [],
   "source": [
    "\n",
    "# Importamos la biblioteca Prophet\n",
    "from fbprophet import Prophet\n",
    "\n",
    "# Generamos una serie de tiempo con una tendencia y una estacionalidad\n",
    "time = pd.date_range('2020-01-01', periods=365)\n",
    "trend = np.linspace(0, 1, 365)\n",
    "seasonality = np.sin(2 * np.pi * np.arange(365) / 7)\n",
    "series = pd.Series(trend + seasonality + np.random.randn(365) * 0.1, index=time)\n",
    "df = pd.DataFrame({'ds': series.index, 'y': series.values})\n",
    "\n",
    "# Ajustamos el modelo Prophet\n",
    "model = Prophet(weekly_seasonality=True)\n",
    "model.fit(df)\n",
    "\n",
    "# Hacemos una predicción para el mismo período de tiempo\n",
    "future = model.make_future_dataframe(periods=0)\n",
    "forecast = model.predict(future)\n",
    "\n",
    "# Visualizamos la descomposición de la serie de tiempo\n",
    "model.plot_components(forecast)"
   ]
  },
  {
   "cell_type": "markdown",
   "metadata": {},
   "source": [
    "# Ejercicios con Prophet\n",
    "Ahora que hemos aprendido cómo usar Prophet para descomponer una serie de tiempo en su tendencia y componentes estacionales, es tu turno de practicar.\n",
    "\n",
    "#### Ejercicio 1:\n",
    "\n",
    "Genera una serie de tiempo que tenga una tendencia lineal y una estacionalidad semanal, y utiliza Prophet para descomponerla en su tendencia y componentes estacionales. Visualiza la descomposición.\n",
    "\n",
    "#### Ejercicio 2:\n",
    "\n",
    "Genera una serie de tiempo que tenga una tendencia no lineal y una estacionalidad diaria, y utiliza Prophet para descomponerla en su tendencia y componentes estacionales. Visualiza la descomposición."
   ]
  },
  {
   "cell_type": "code",
   "execution_count": null,
   "metadata": {},
   "outputs": [],
   "source": [
    "#Ejercicio 1 \n",
    "# Generamos una serie de tiempo con una tendencia lineal y una estacionalidad semanal\n",
    "time = pd.date_range('2020-01-01', periods=365)\n",
    "trend = np.linspace(0, 1, 365)\n",
    "seasonality = np.sin(2 * np.pi * np.arange(365) / 7)\n",
    "series = pd.Series(trend + seasonality + np.random.randn(365) * 0.1, index=time)\n",
    "df = pd.DataFrame({'ds': series.index, 'y': series.values})\n",
    "\n",
    "# Ajustamos el modelo Prophet\n",
    "model = Prophet(weekly_seasonality=True)\n",
    "model.fit(df)\n",
    "\n",
    "# Hacemos una predicción para el mismo período de tiempo\n",
    "future = model.make_future_dataframe(periods=0)\n",
    "forecast = model.predict(future)\n",
    "\n",
    "# Visualizamos la descomposición de la serie de tiempo\n",
    "model.plot_components(forecast)"
   ]
  },
  {
   "cell_type": "code",
   "execution_count": null,
   "metadata": {},
   "outputs": [],
   "source": [
    "#Ejercicio 2\n",
    "# Importamos la biblioteca Prophet\n",
    "from fbprophet import Prophet\n",
    "\n",
    "# Generamos una serie de tiempo con una tendencia no lineal y una estacionalidad diaria\n",
    "time = pd.date_range('2020-01-01', periods=365)\n",
    "trend = np.sin(2 * np.pi * np.arange(365) / 365)\n",
    "seasonality = np.sin(2 * np.pi * np.arange(365) / 24)\n",
    "series = pd.Series(trend + seasonality + np.random.randn(365) * 0.1, index=time)\n",
    "df = pd.DataFrame({'ds': series.index, 'y': series.values})\n",
    "\n",
    "# Ajustamos el modelo Prophet\n",
    "model = Prophet(daily_seasonality=True)\n",
    "model.fit(df)\n",
    "\n",
    "# Hacemos una predicción para el mismo período de tiempo\n",
    "future = model.make_future_dataframe(periods=0)\n",
    "forecast = model.predict(future)\n",
    "\n",
    "# Visualizamos la descomposición de la serie de tiempo\n",
    "model.plot_components(forecast)"
   ]
  },
  {
   "cell_type": "code",
   "execution_count": null,
   "metadata": {},
   "outputs": [],
   "source": []
  },
  {
   "cell_type": "code",
   "execution_count": null,
   "metadata": {},
   "outputs": [],
   "source": []
  },
  {
   "cell_type": "code",
   "execution_count": null,
   "metadata": {},
   "outputs": [],
   "source": []
  }
 ],
 "metadata": {
  "kernelspec": {
   "display_name": "Python 3",
   "language": "python",
   "name": "python3"
  },
  "language_info": {
   "codemirror_mode": {
    "name": "ipython",
    "version": 3
   },
   "file_extension": ".py",
   "mimetype": "text/x-python",
   "name": "python",
   "nbconvert_exporter": "python",
   "pygments_lexer": "ipython3",
   "version": "3.8.5"
  }
 },
 "nbformat": 4,
 "nbformat_minor": 4
}
