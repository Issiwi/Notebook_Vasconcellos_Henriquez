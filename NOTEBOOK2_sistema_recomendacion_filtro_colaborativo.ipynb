{
  "cells": [
    {
      "attachments": {},
      "cell_type": "markdown",
      "id": "e4938a46-7587-4061-91e6-21f1e6d549c6",
      "metadata": {
        "jupyter": {
          "outputs_hidden": false,
          "source_hidden": false
        },
        "noteable": {
          "cell_type": "markdown"
        }
      },
      "source": [
        "# Métricas de Error en Sistemas de Recomendación con Filtro Colaborativo\n",
        "\n",
        "En los sistemas de recomendación, es importante tener una forma de medir qué tan buenas son nuestras predicciones. Para esto, utilizamos métricas de error. Aquí están algunas de las más comunes:\n",
        "\n",
        "## Error Cuadrático Medio (RMSE)\n",
        "\n",
        "El Error Cuadrático Medio (RMSE, por sus siglas en inglés) es una de las métricas de error más comúnmente utilizadas en los sistemas de recomendación. Se calcula tomando la raíz cuadrada de la media de los errores al cuadrado. En otras palabras, para cada predicción que hacemos, calculamos la diferencia entre la predicción y el valor real, elevamos al cuadrado esa diferencia, y luego tomamos la media de todas esas diferencias al cuadrado. Finalmente, tomamos la raíz cuadrada de esa media. La fórmula es la siguiente:\n",
        "\n",
        "$$RMSE = \\sqrt{\\frac{1}{N}\\sum_{i=1}^{N}(y_i - \\hat{y}_i)^2}$$\n",
        "\n",
        "Donde:\n",
        "- $y_i$ es el valor real\n",
        "- $\\hat{y}_i$ es el valor predicho\n",
        "- $N$ es el número total de predicciones\n",
        "\n",
        "## Error Absoluto Medio (MAE)\n",
        "\n",
        "El Error Absoluto Medio (MAE, por sus siglas en inglés) es otra métrica de error comúnmente utilizada. Se calcula tomando la media de los errores absolutos. En otras palabras, para cada predicción que hacemos, calculamos la diferencia entre la predicción y el valor real, tomamos el valor absoluto de esa diferencia, y luego tomamos la media de todas esas diferencias absolutas. La fórmula es la siguiente:\n",
        "\n",
        "$$MAE = \\frac{1}{N}\\sum_{i=1}^{N}|y_i - \\hat{y}_i|$$\n",
        "\n",
        "Donde:\n",
        "- $y_i$ es el valor real\n",
        "- $\\hat{y}_i$ es el valor predicho\n",
        "- $N$ es el número total de predicciones\n",
        "\n",
        "Estas métricas nos dan una idea de cuánto se desvían nuestras predicciones de los valores reales. En general, cuanto menor sea el valor de estas métricas, mejor será nuestro sistema de recomendación."
      ]
    },
    {
      "attachments": {},
      "cell_type": "markdown",
      "id": "8c307ff9-8f1f-4eda-840b-171263d5ec84",
      "metadata": {
        "jupyter": {
          "outputs_hidden": false,
          "source_hidden": false
        },
        "noteable": {
          "cell_type": "markdown"
        }
      },
      "source": [
        "## Matriz de Calificaciones\n",
        "\n",
        "Una matriz de calificaciones es una estructura de datos que se utiliza en los sistemas de recomendación para almacenar las calificaciones que los usuarios han dado a los elementos. En esta matriz, las filas representan a los usuarios y las columnas representan a los elementos. El valor en la celda en la i-ésima fila y la j-ésima columna representa la calificación que el i-ésimo usuario ha dado al j-ésimo elemento.\n",
        "\n",
        "Por ejemplo, si tenemos 5 usuarios y 4 elementos, la matriz de calificaciones podría ser algo como esto:\n",
        "\n",
        "|   | Elemento 1 | Elemento 2 | Elemento 3 | Elemento 4 |\n",
        "|---|------------|------------|------------|------------|\n",
        "| Usuario 1 |     5      |     3      |     0      |     1      |\n",
        "| Usuario 2 |     4      |     0      |     0      |     1      |\n",
        "| Usuario 3 |     1      |     1      |     0      |     5      |\n",
        "| Usuario 4 |     1      |     0      |     0      |     4      |\n",
        "| Usuario 5 |     0      |     1      |     5      |     4      |\n",
        "\n",
        "En este caso, el Usuario 1 ha dado una calificación de 5 al Elemento 1, una calificación de 3 al Elemento 2, y así sucesivamente. Los ceros representan las calificaciones que aún no se han dado.\n",
        "\n",
        "A continuación, vamos a implementar un ejemplo de una matriz de calificaciones en Python."
      ]
    },
    {
      "cell_type": "code",
      "execution_count": 15,
      "id": "b903052a-e28d-4bd4-b4a4-cea050b18083",
      "metadata": {
        "ExecuteTime": {
          "end_time": "2023-06-06T03:17:36.953625+00:00",
          "start_time": "2023-06-06T03:17:36.796262+00:00"
        },
        "jupyter": {
          "outputs_hidden": false,
          "source_hidden": false
        },
        "noteable": {
          "cell_type": "code"
        }
      },
      "outputs": [
        {
          "name": "stdout",
          "output_type": "stream",
          "text": [
            "Matriz de calificaciones:\n",
            "[[5 3 0 1]\n",
            " [4 0 0 1]\n",
            " [1 1 0 5]\n",
            " [1 0 0 4]\n",
            " [0 1 5 4]]\n"
          ]
        }
      ],
      "source": [
        "# Crear una matriz de calificaciones de ejemplo\n",
        "import numpy as np\n",
        "import pandas as pd\n",
        "ratings = np.array([\n",
        "    [5, 3, 0, 1],\n",
        "    [4, 0, 0, 1],\n",
        "    [1, 1, 0, 5],\n",
        "    [1, 0, 0, 4],\n",
        "    [0, 1, 5, 4],\n",
        "])\n",
        "\n",
        "print('Matriz de calificaciones:')\n",
        "print(ratings)"
      ]
    },
    {
      "attachments": {},
      "cell_type": "markdown",
      "id": "92a535e6-9585-4b1c-97a3-04eb5edee912",
      "metadata": {
        "jupyter": {
          "outputs_hidden": false,
          "source_hidden": false
        },
        "noteable": {
          "cell_type": "markdown"
        }
      },
      "source": [
        "# Sistema de Recomendación con Filtro Colaborativo\n",
        "\n",
        "Un sistema de recomendación con filtro colaborativo es un tipo de sistema de recomendación que predice el interés de un usuario en un producto o servicio basándose en las preferencias de otros usuarios con gustos similares. Este enfoque se basa en la idea de que si dos usuarios están de acuerdo en un tema, es probable que estén de acuerdo en otros temas.\n",
        "\n",
        "El filtro colaborativo se puede dividir en dos subtipos: basado en memoria y basado en modelo.\n",
        "\n",
        "1. **Filtro colaborativo basado en memoria:** Este enfoque utiliza las calificaciones de los usuarios para calcular la similitud entre los usuarios o los elementos. Las técnicas comunes de este enfoque incluyen el filtrado colaborativo basado en el usuario (donde se recomiendan elementos que usuarios similares han gustado en el pasado) y el filtrado colaborativo basado en el elemento (donde se recomiendan elementos similares a los que el usuario ha gustado en el pasado).\n",
        "\n",
        "2. **Filtro colaborativo basado en modelo:** Este enfoque utiliza técnicas de aprendizaje automático para predecir las calificaciones de los usuarios. Los modelos comunes incluyen el modelo de factorización matricial (donde se descompone la matriz de calificaciones de los usuarios en el producto de dos matrices de menor rango) y el modelo de factorización de máquinas de vectores de soporte (donde se utiliza una máquina de vectores de soporte para predecir las calificaciones de los usuarios).\n",
        "\n",
        "A continuación, vamos a implementar un ejemplo de un sistema de recomendación con filtro colaborativo basado en memoria utilizando Python."
      ]
    },
    {
      "cell_type": "code",
      "execution_count": 16,
      "id": "420da443-7d80-449a-aeb0-adc614e93d06",
      "metadata": {
        "ExecuteTime": {
          "end_time": "2023-06-06T03:14:29.139215+00:00",
          "start_time": "2023-06-06T03:14:28.553442+00:00"
        },
        "jupyter": {
          "outputs_hidden": false,
          "source_hidden": false
        },
        "noteable": {
          "cell_type": "code"
        }
      },
      "outputs": [
        {
          "name": "stdout",
          "output_type": "stream",
          "text": [
            "Matriz de similitud de elementos:\n",
            "[[1.         0.73568078 0.         0.35736521]\n",
            " [0.73568078 1.         0.30151134 0.4710412 ]\n",
            " [0.         0.30151134 1.         0.52075564]\n",
            " [0.35736521 0.4710412  0.52075564 1.        ]]\n",
            "\n",
            "Predicciones de calificaciones:\n",
            "[[3.61406657 2.85039076 0.78215195 1.78785012]\n",
            " [2.08182965 1.36102343 0.28577352 1.03418188]\n",
            " [1.6829572  1.63098335 1.59432706 2.48105762]\n",
            " [1.16072979 1.04449836 1.14309406 1.85485935]\n",
            " [1.03444532 1.75092224 4.05238857 3.01163532]]\n"
          ]
        }
      ],
      "source": [
        "# Importamos las librerías necesarias\n",
        "import numpy as np\n",
        "from sklearn.metrics.pairwise import cosine_similarity\n",
        "\n",
        "# Creamos una matriz de calificaciones de ejemplo\n",
        "ratings = np.array([\n",
        "    [5, 3, 0, 1],\n",
        "    [4, 0, 0, 1],\n",
        "    [1, 1, 0, 5],\n",
        "    [1, 0, 0, 4],\n",
        "    [0, 1, 5, 4],\n",
        "])\n",
        "\n",
        "# Calculamos la similitud del coseno entre los elementos\n",
        "item_similarity = cosine_similarity(ratings.T)\n",
        "print('Matriz de similitud de elementos:')\n",
        "print(item_similarity)\n",
        "\n",
        "# Predecimos las calificaciones\n",
        "def predict(ratings, similarity):\n",
        "    return ratings.dot(similarity) / np.array([np.abs(similarity).sum(axis=1)])\n",
        "\n",
        "item_prediction = predict(ratings, item_similarity)\n",
        "print('\\nPredicciones de calificaciones:')\n",
        "print(item_prediction)"
      ]
    },
    {
      "attachments": {},
      "cell_type": "markdown",
      "id": "e93d2550-a16f-496a-bb4a-e7bbc31d1f64",
      "metadata": {
        "jupyter": {
          "outputs_hidden": false,
          "source_hidden": false
        },
        "noteable": {
          "cell_type": "markdown"
        }
      },
      "source": [
        "## Algoritmo de Recomendación Basado en los N-Primeros\n",
        "\n",
        "El algoritmo de recomendación basado en los N-Primeros es un enfoque simple pero efectivo para los sistemas de recomendación. La idea básica es recomendar los N elementos más populares o más calificados a los usuarios. Este enfoque es especialmente útil cuando no tenemos información previa sobre las preferencias de los usuarios, lo que se conoce como el problema del inicio en frío.\n",
        "\n",
        "El algoritmo de los N-Primeros es fácil de implementar y computacionalmente eficiente, pero tiene algunas limitaciones. En particular, este enfoque no personaliza las recomendaciones para cada usuario y puede conducir a una falta de diversidad en las recomendaciones.\n",
        "\n",
        "A continuación, vamos a implementar un ejemplo de un algoritmo de recomendación basado en los N-Primeros en Python. Para este ejemplo, vamos a asumir que tenemos una matriz de calificaciones de los usuarios a los elementos, y vamos a recomendar los N elementos con las calificaciones más altas."
      ]
    },
    {
      "cell_type": "code",
      "execution_count": 17,
      "id": "1dfead65-af34-4788-9bcd-04008216a483",
      "metadata": {
        "ExecuteTime": {
          "end_time": "2023-06-06T03:20:08.808105+00:00",
          "start_time": "2023-06-06T03:20:08.650251+00:00"
        },
        "jupyter": {
          "outputs_hidden": false,
          "source_hidden": false
        },
        "noteable": {
          "cell_type": "code"
        }
      },
      "outputs": [
        {
          "name": "stdout",
          "output_type": "stream",
          "text": [
            "Los 2 elementos con las calificaciones más altas son: [0 3]\n"
          ]
        }
      ],
      "source": [
        "# Función para recomendar los N elementos con las calificaciones más altas\n",
        "def recommend_top_n(ratings, n):\n",
        "    # Calcular la calificación media de cada elemento\n",
        "    item_means = ratings.mean(axis=0)\n",
        "\n",
        "    # Obtener los índices de los N elementos con las calificaciones más altas\n",
        "    top_n_items = np.argsort(item_means)[-n:]\n",
        "\n",
        "    return top_n_items\n",
        "\n",
        "# Recomendar los 2 elementos con las calificaciones más altas\n",
        "top_2_items = recommend_top_n(ratings, 2)\n",
        "print('Los 2 elementos con las calificaciones más altas son:', top_2_items)"
      ]
    },
    {
      "attachments": {},
      "cell_type": "markdown",
      "id": "c9e9cfbb-2c3c-4bd5-b360-655dc59c265d",
      "metadata": {
        "jupyter": {
          "outputs_hidden": false,
          "source_hidden": false
        },
        "noteable": {
          "cell_type": "markdown"
        }
      },
      "source": [
        "## Algoritmo de Recomendación Slope One\n",
        "\n",
        "Slope One es un algoritmo de recomendación basado en la idea de hacer predicciones simples y eficientes. La idea básica del algoritmo Slope One es calcular la diferencia promedio en las calificaciones entre un par de elementos y luego usar estas diferencias para predecir las calificaciones de los elementos no calificados.\n",
        "\n",
        "El algoritmo Slope One tiene varias ventajas. En primer lugar, es simple y fácil de entender. En segundo lugar, es eficiente en términos de tiempo y espacio. En tercer lugar, puede manejar nuevas calificaciones, usuarios y elementos de manera incremental sin necesidad de recomputar todas las diferencias.\n",
        "\n",
        "A continuación, vamos a implementar un ejemplo de un algoritmo de recomendación Slope One en Python. Para este ejemplo, vamos a asumir que tenemos una matriz de calificaciones de los usuarios a los elementos, y vamos a usar el algoritmo Slope One para predecir las calificaciones de los elementos no calificados."
      ]
    },
    {
      "cell_type": "code",
      "execution_count": 18,
      "id": "cd189c63-2e8b-4c5a-a05d-440c13f804fc",
      "metadata": {
        "ExecuteTime": {
          "end_time": "2023-06-06T03:24:22.220110+00:00",
          "start_time": "2023-06-06T03:24:21.966732+00:00"
        },
        "jupyter": {
          "outputs_hidden": false,
          "source_hidden": false
        },
        "noteable": {
          "cell_type": "code"
        }
      },
      "outputs": [
        {
          "name": "stdout",
          "output_type": "stream",
          "text": [
            "RMSE: 0.9129\n",
            "RMSE of Slope One:  0.9128709291752769\n"
          ]
        }
      ],
      "source": [
        "# Importar la biblioteca de recomendación de Surprise\n",
        "from surprise import Dataset, Reader, SlopeOne, accuracy\n",
        "from surprise.model_selection import train_test_split\n",
        "\n",
        "# Crear un conjunto de datos de ejemplo\n",
        "ratings_dict = {\n",
        "    'item': [1, 1, 2, 2, 3, 3, 4, 4, 5, 5],\n",
        "    'user': ['A', 'B', 'A', 'B', 'A', 'B', 'A', 'B', 'A', 'B'],\n",
        "    'rating': [1, 2, 2, 4, 2.5, 4, 4.5, 5, 3, 2]\n",
        "}\n",
        "\n",
        "# Definir un lector para el rango de calificaciones\n",
        "reader = Reader(rating_scale=(1, 5))\n",
        "\n",
        "# Crear el conjunto de datos de las calificaciones\n",
        "data = Dataset.load_from_df(pd.DataFrame(ratings_dict), reader)\n",
        "\n",
        "# Dividir el conjunto de datos en entrenamiento y prueba\n",
        "trainset, testset = train_test_split(data, test_size=.25)\n",
        "\n",
        "# Entrenar el algoritmo Slope One\n",
        "algo = SlopeOne()\n",
        "algo.fit(trainset)\n",
        "\n",
        "# Predecir las calificaciones para el conjunto de prueba\n",
        "predictions = algo.test(testset)\n",
        "\n",
        "# Calcular RMSE\n",
        "print('RMSE of Slope One: ', accuracy.rmse(predictions))"
      ]
    },
    {
      "attachments": {},
      "cell_type": "markdown",
      "id": "c3059a65-a8d2-44e5-8c50-d659aa0c34af",
      "metadata": {
        "jupyter": {
          "outputs_hidden": false,
          "source_hidden": false
        },
        "noteable": {
          "cell_type": "markdown"
        }
      },
      "source": [
        "## Algoritmo de Recomendación SVD\n",
        "\n",
        "SVD, o Descomposición en Valores Singulares, es un algoritmo popular para sistemas de recomendación. Es especialmente útil en el caso de los sistemas de recomendación basados en filtrado colaborativo, donde se busca predecir la calificación que un usuario daría a un elemento basándose en las calificaciones dadas por otros usuarios.\n",
        "\n",
        "La idea básica detrás de SVD es que podemos descomponer una matriz en tres matrices separadas:\n",
        "\n",
        "$$M = U \\Sigma V^T$$\n",
        "\n",
        "Donde:\n",
        "- $M$ es la matriz original (en el caso de los sistemas de recomendación, esta sería la matriz de calificaciones de los usuarios a los elementos).\n",
        "- $U$ es una matriz que representa la relación entre los usuarios y los conceptos latentes.\n",
        "- $\\Sigma$ es una matriz diagonal que contiene los valores singulares (que representan la fuerza de cada concepto latente).\n",
        "- $V^T$ es una matriz que representa la relación entre los elementos y los conceptos latentes.\n",
        "\n",
        "Una vez que tenemos estas tres matrices, podemos usarlas para predecir las calificaciones de los elementos no calificados. Para hacer esto, simplemente multiplicamos las tres matrices juntas para obtener una matriz de calificaciones predichas.\n",
        "\n",
        "A continuación, vamos a implementar un ejemplo de un algoritmo de recomendación SVD en Python. Para este ejemplo, vamos a asumir que tenemos una matriz de calificaciones de los usuarios a los elementos, y vamos a usar el algoritmo SVD para predecir las calificaciones de los elementos no calificados."
      ]
    },
    {
      "cell_type": "code",
      "execution_count": 19,
      "id": "4bca3748-77cb-43d5-a994-69d9f5e3f605",
      "metadata": {
        "ExecuteTime": {
          "end_time": "2023-06-06T03:27:00.710708+00:00",
          "start_time": "2023-06-06T03:27:00.548835+00:00"
        },
        "jupyter": {
          "outputs_hidden": false,
          "source_hidden": false
        },
        "noteable": {
          "cell_type": "code"
        }
      },
      "outputs": [
        {
          "name": "stdout",
          "output_type": "stream",
          "text": [
            "RMSE: 1.9192\n",
            "RMSE of SVD:  1.9191912885313167\n"
          ]
        }
      ],
      "source": [
        "# Importar la biblioteca de recomendación de Surprise\n",
        "from surprise import Dataset, Reader, SVD, accuracy\n",
        "from surprise.model_selection import train_test_split\n",
        "\n",
        "# Crear un conjunto de datos de ejemplo\n",
        "ratings_dict = {\n",
        "    'item': [1, 1, 2, 2, 3, 3, 4, 4, 5, 5],\n",
        "    'user': ['A', 'B', 'A', 'B', 'A', 'B', 'A', 'B', 'A', 'B'],\n",
        "    'rating': [1, 2, 2, 4, 2.5, 4, 4.5, 5, 3, 2]\n",
        "}\n",
        "\n",
        "# Definir un lector para el rango de calificaciones\n",
        "reader = Reader(rating_scale=(1, 5))\n",
        "\n",
        "# Crear el conjunto de datos de las calificaciones\n",
        "data = Dataset.load_from_df(pd.DataFrame(ratings_dict), reader)\n",
        "\n",
        "# Dividir el conjunto de datos en entrenamiento y prueba\n",
        "trainset, testset = train_test_split(data, test_size=.25)\n",
        "\n",
        "# Entrenar el algoritmo SVD\n",
        "algo = SVD()\n",
        "algo.fit(trainset)\n",
        "\n",
        "# Predecir las calificaciones para el conjunto de prueba\n",
        "predictions = algo.test(testset)\n",
        "\n",
        "# Calcular RMSE\n",
        "print('RMSE of SVD: ', accuracy.rmse(predictions))"
      ]
    },
    {
      "attachments": {},
      "cell_type": "markdown",
      "id": "c44b2127-cf3b-4093-a64d-132e458eb9a1",
      "metadata": {
        "jupyter": {
          "outputs_hidden": false,
          "source_hidden": false
        },
        "noteable": {
          "cell_type": "markdown"
        }
      },
      "source": [
        "# Ejercicios\n",
        "\n",
        "Ahora que hemos revisado los conceptos básicos de los sistemas de recomendación con filtro colaborativo, es hora de poner en práctica lo que hemos aprendido. Aquí hay algunos ejercicios para que los desarrolles:\n",
        "\n",
        "## Ejercicio 1: Matriz de Calificaciones\n",
        "\n",
        "Crea una matriz de calificaciones de 5x5 con datos generados aleatoriamente. Luego, utiliza la función `mean()` para calcular la calificación media de cada usuario.\n",
        "\n",
        "## Ejercicio 2: Algoritmo de los N-primeros\n",
        "\n",
        "Implementa el algoritmo de los N-primeros. Dada una matriz de calificaciones y un número N, tu función debe devolver los N primeros elementos recomendados para cada usuario.\n",
        "\n",
        "## Ejercicio 3: Algoritmo SVD\n",
        "\n",
        "Utiliza la descomposición en valores singulares (SVD) para hacer recomendaciones basadas en la matriz de calificaciones que creaste en el Ejercicio 1. Compara los resultados con los obtenidos en el Ejercicio 2."
      ]
    },
    {
      "cell_type": "code",
      "execution_count": 20,
      "id": "3f0f2671",
      "metadata": {},
      "outputs": [
        {
          "name": "stdout",
          "output_type": "stream",
          "text": [
            "Matriz de Calificaciones:\n",
            "[[5 2 4 4 2]\n",
            " [2 4 1 3 1]\n",
            " [1 5 5 1 1]\n",
            " [5 4 5 1 4]\n",
            " [5 3 1 4 5]]\n",
            "\n",
            "Calificación media de cada usuario:\n",
            "[3.4 2.2 2.6 3.8 3.6]\n"
          ]
        }
      ],
      "source": [
        "#Ejercicio 1\n",
        "import numpy as np\n",
        "\n",
        "# Crear matriz de calificaciones de 5x5 con datos aleatorios\n",
        "ratings_matrix = np.random.randint(1, 6, size=(5, 5))\n",
        "\n",
        "# Imprimir la matriz de calificaciones\n",
        "print(\"Matriz de Calificaciones:\")\n",
        "print(ratings_matrix)\n",
        "\n",
        "# Calcular la calificación media de cada usuario\n",
        "mean_ratings = np.mean(ratings_matrix, axis=1)\n",
        "\n",
        "# Imprimir las calificaciones medias de cada usuario\n",
        "print(\"\\nCalificación media de cada usuario:\")\n",
        "print(mean_ratings)"
      ]
    },
    {
      "cell_type": "code",
      "execution_count": 21,
      "id": "609df50b",
      "metadata": {},
      "outputs": [
        {
          "name": "stdout",
          "output_type": "stream",
          "text": [
            "Usuario 1: [0 1 4]\n",
            "Usuario 2: [3 2 4]\n",
            "Usuario 3: [3 0 4]\n",
            "Usuario 4: [2 1 4]\n"
          ]
        }
      ],
      "source": [
        "#Ejercicio 2\n",
        "\n",
        "import numpy as np\n",
        "\n",
        "def n_top_recommendations(ratings_matrix, N):\n",
        "    # Obtener el número de usuarios y elementos\n",
        "    num_users, num_items = ratings_matrix.shape\n",
        "    \n",
        "    # Inicializar una matriz para almacenar las recomendaciones\n",
        "    recommendations = np.zeros((num_users, N), dtype=int)\n",
        "    \n",
        "    # Recorrer cada usuario\n",
        "    for user in range(num_users):\n",
        "        # Obtener las calificaciones del usuario\n",
        "        user_ratings = ratings_matrix[user]\n",
        "        \n",
        "        # Obtener los índices de los N elementos con las calificaciones más altas\n",
        "        top_indices = np.argsort(user_ratings)[::-1][:N]\n",
        "        \n",
        "        # Almacenar los índices de los elementos recomendados para el usuario\n",
        "        recommendations[user] = top_indices\n",
        "    \n",
        "    return recommendations\n",
        "\n",
        "# Ejemplo de uso\n",
        "ratings_matrix = np.array([\n",
        "    [5, 4, 0, 0, 3],\n",
        "    [0, 0, 4, 5, 2],\n",
        "    [1, 0, 0, 4, 0],\n",
        "    [0, 3, 5, 0, 0]\n",
        "])\n",
        "\n",
        "N = 3\n",
        "\n",
        "recommendations = n_top_recommendations(ratings_matrix, N)\n",
        "\n",
        "# Imprimir las recomendaciones para cada usuario\n",
        "for user, rec_items in enumerate(recommendations):\n",
        "    print(f\"Usuario {user + 1}: {rec_items}\")\n"
      ]
    },
    {
      "cell_type": "code",
      "execution_count": 22,
      "id": "3be9c5c1",
      "metadata": {},
      "outputs": [],
      "source": [
        "#Ejercicio 3\n",
        "import numpy as np\n",
        "from scipy.linalg import svd\n",
        "\n",
        "# Matriz de calificaciones generada en el Ejercicio 1\n",
        "ratings_matrix = np.array([\n",
        "    [5, 4, 0, 0, 3],\n",
        "    [0, 0, 4, 5, 2],\n",
        "    [1, 0, 0, 4, 0],\n",
        "    [0, 3, 5, 0, 0]\n",
        "])\n",
        "\n",
        "# Descomposición SVD\n",
        "U, S, Vt = svd(ratings_matrix)\n",
        "\n",
        "# Número de componentes latentes\n",
        "k = 2\n",
        "\n",
        "# Aproximación SVD truncada\n",
        "S_k = np.diag(S[:k])\n",
        "U_k = U[:, :k]\n",
        "Vt_k = Vt[:k, :]\n",
        "\n"
      ]
    }
  ],
  "metadata": {
    "kernelspec": {
      "display_name": "Python 3",
      "language": "python",
      "name": "python3"
    },
    "language_info": {
      "codemirror_mode": {
        "name": "ipython",
        "version": 3
      },
      "file_extension": ".py",
      "mimetype": "text/x-python",
      "name": "python",
      "nbconvert_exporter": "python",
      "pygments_lexer": "ipython3",
      "version": "3.11.3"
    },
    "noteable": {
      "last_delta_id": "150adcaf-3a68-4399-9ecd-2a22a96d8746"
    },
    "noteable-chatgpt": {
      "create_notebook": {
        "openai_conversation_id": "0ddbee15-a81b-5efd-a3eb-e96a6949e17f",
        "openai_ephemeral_user_id": "69a979d4-18c2-5097-83d1-83bc99035e03",
        "openai_subdivision1_iso_code": "CL-RM"
      }
    },
    "nteract": {
      "version": "noteable@2.9.0"
    },
    "selected_hardware_size": "small"
  },
  "nbformat": 4,
  "nbformat_minor": 5
}
